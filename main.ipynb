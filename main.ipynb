{
 "cells": [
  {
   "cell_type": "markdown",
   "id": "9e07b126-474d-45e8-b29f-bf1f2851be79",
   "metadata": {},
   "source": [
    "Only need to run the cell below once, then restart kernel and run cells after it to download dataset"
   ]
  },
  {
   "cell_type": "code",
   "execution_count": null,
   "id": "b8384fce-19f2-4ffc-8e06-effd53bb5cb8",
   "metadata": {},
   "outputs": [],
   "source": [
    "pip install kagglehub"
   ]
  },
  {
   "cell_type": "code",
   "execution_count": null,
   "id": "3ab3d4c7-a6ef-42b3-8dbc-993cfcfb58ae",
   "metadata": {},
   "outputs": [],
   "source": [
    "import kagglehub\n",
    "\n",
    "# Download latest version\n",
    "path = kagglehub.dataset_download(\"arnaud58/landscape-pictures\")\n",
    "\n",
    "print(\"Path to dataset files:\", path)"
   ]
  },
  {
   "cell_type": "markdown",
   "id": "d8b01711-e993-42aa-9269-e24792bfd561",
   "metadata": {},
   "source": [
    "Cell below moves it to working directory. NOTE: replace username in string with your username"
   ]
  },
  {
   "cell_type": "code",
   "execution_count": 3,
   "id": "1b55de21-dc0f-4f6b-bec1-3e16c1cbc106",
   "metadata": {},
   "outputs": [
    {
     "data": {
      "text/plain": [
       "'ECE285_PROJECT/landscape_pictures'"
      ]
     },
     "execution_count": 3,
     "metadata": {},
     "output_type": "execute_result"
    }
   ],
   "source": [
    "import shutil\n",
    "\n",
    "shutil.move(\n",
    "    \"/home/ahhussain/.cache/kagglehub/datasets/arnaud58/landscape-pictures/versions/2\",\n",
    "    \"landscape_pictures\"\n",
    ")\n"
   ]
  }
 ],
 "metadata": {
  "kernelspec": {
   "display_name": "Python 3 (ipykernel)",
   "language": "python",
   "name": "python3"
  },
  "language_info": {
   "codemirror_mode": {
    "name": "ipython",
    "version": 3
   },
   "file_extension": ".py",
   "mimetype": "text/x-python",
   "name": "python",
   "nbconvert_exporter": "python",
   "pygments_lexer": "ipython3",
   "version": "3.11.9"
  }
 },
 "nbformat": 4,
 "nbformat_minor": 5
}
